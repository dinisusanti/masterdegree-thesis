{
 "cells": [
  {
   "cell_type": "code",
   "execution_count": 2,
   "id": "7a676e8c",
   "metadata": {},
   "outputs": [
    {
     "name": "stdout",
     "output_type": "stream",
     "text": [
      "Epoch 1/50\n",
      "32/32 [==============================] - 8s 17ms/step - loss: 0.0728 - accuracy: 0.0020\n",
      "Epoch 2/50\n",
      "32/32 [==============================] - 1s 18ms/step - loss: 0.0382 - accuracy: 0.0020\n",
      "Epoch 3/50\n",
      "32/32 [==============================] - 1s 19ms/step - loss: 0.0241 - accuracy: 0.0020\n",
      "Epoch 4/50\n",
      "32/32 [==============================] - 0s 14ms/step - loss: 0.0233 - accuracy: 0.0020\n",
      "Epoch 5/50\n",
      "32/32 [==============================] - 0s 14ms/step - loss: 0.0184 - accuracy: 0.0020\n",
      "Epoch 6/50\n",
      "32/32 [==============================] - 0s 13ms/step - loss: 0.0170 - accuracy: 0.0020\n",
      "Epoch 7/50\n",
      "32/32 [==============================] - 0s 13ms/step - loss: 0.0119 - accuracy: 0.0020\n",
      "Epoch 8/50\n",
      "32/32 [==============================] - 0s 13ms/step - loss: 0.0098 - accuracy: 0.0020\n",
      "Epoch 9/50\n",
      "32/32 [==============================] - 0s 12ms/step - loss: 0.0073 - accuracy: 0.0040\n",
      "Epoch 10/50\n",
      "32/32 [==============================] - 0s 13ms/step - loss: 0.0081 - accuracy: 0.0040\n",
      "Epoch 11/50\n",
      "32/32 [==============================] - 0s 13ms/step - loss: 0.0066 - accuracy: 0.0040\n",
      "Epoch 12/50\n",
      "32/32 [==============================] - 0s 13ms/step - loss: 0.0068 - accuracy: 0.0040\n",
      "Epoch 13/50\n",
      "32/32 [==============================] - 0s 12ms/step - loss: 0.0066 - accuracy: 0.0040\n",
      "Epoch 14/50\n",
      "32/32 [==============================] - 0s 13ms/step - loss: 0.0082 - accuracy: 0.0040\n",
      "Epoch 15/50\n",
      "32/32 [==============================] - 0s 13ms/step - loss: 0.0071 - accuracy: 0.0040\n",
      "Epoch 16/50\n",
      "32/32 [==============================] - 0s 12ms/step - loss: 0.0079 - accuracy: 0.0040\n",
      "Epoch 17/50\n",
      "32/32 [==============================] - 0s 12ms/step - loss: 0.0068 - accuracy: 0.0040\n",
      "Epoch 18/50\n",
      "32/32 [==============================] - 0s 12ms/step - loss: 0.0066 - accuracy: 0.0040\n",
      "Epoch 19/50\n",
      "32/32 [==============================] - 0s 15ms/step - loss: 0.0064 - accuracy: 0.0040\n",
      "Epoch 20/50\n",
      "32/32 [==============================] - 1s 17ms/step - loss: 0.0057 - accuracy: 0.0040\n",
      "Epoch 21/50\n",
      "32/32 [==============================] - 0s 15ms/step - loss: 0.0057 - accuracy: 0.0040\n",
      "Epoch 22/50\n",
      "32/32 [==============================] - 1s 18ms/step - loss: 0.0077 - accuracy: 0.0040\n",
      "Epoch 23/50\n",
      "32/32 [==============================] - 0s 15ms/step - loss: 0.0053 - accuracy: 0.0040\n",
      "Epoch 24/50\n",
      "32/32 [==============================] - 0s 14ms/step - loss: 0.0062 - accuracy: 0.0040\n",
      "Epoch 25/50\n",
      "32/32 [==============================] - 0s 15ms/step - loss: 0.0059 - accuracy: 0.0040\n",
      "Epoch 26/50\n",
      "32/32 [==============================] - 1s 17ms/step - loss: 0.0057 - accuracy: 0.0020\n",
      "Epoch 27/50\n",
      "32/32 [==============================] - 0s 14ms/step - loss: 0.0052 - accuracy: 0.0040\n",
      "Epoch 28/50\n",
      "32/32 [==============================] - 0s 13ms/step - loss: 0.0050 - accuracy: 0.0040\n",
      "Epoch 29/50\n",
      "32/32 [==============================] - 1s 17ms/step - loss: 0.0046 - accuracy: 0.0040\n",
      "Epoch 30/50\n",
      "32/32 [==============================] - 0s 14ms/step - loss: 0.0051 - accuracy: 0.0040\n",
      "Epoch 31/50\n",
      "32/32 [==============================] - 0s 13ms/step - loss: 0.0052 - accuracy: 0.0040\n",
      "Epoch 32/50\n",
      "32/32 [==============================] - 0s 13ms/step - loss: 0.0046 - accuracy: 0.0040\n",
      "Epoch 33/50\n",
      "32/32 [==============================] - 1s 17ms/step - loss: 0.0046 - accuracy: 0.0040\n",
      "Epoch 34/50\n",
      "32/32 [==============================] - 0s 14ms/step - loss: 0.0058 - accuracy: 0.0040\n",
      "Epoch 35/50\n",
      "32/32 [==============================] - 0s 13ms/step - loss: 0.0045 - accuracy: 0.0040\n",
      "Epoch 36/50\n",
      "32/32 [==============================] - 0s 13ms/step - loss: 0.0046 - accuracy: 0.0040\n",
      "Epoch 37/50\n",
      "32/32 [==============================] - 0s 12ms/step - loss: 0.0053 - accuracy: 0.0040\n",
      "Epoch 38/50\n",
      "32/32 [==============================] - 0s 13ms/step - loss: 0.0051 - accuracy: 0.0040\n",
      "Epoch 39/50\n",
      "32/32 [==============================] - 0s 13ms/step - loss: 0.0049 - accuracy: 0.0020\n",
      "Epoch 40/50\n",
      "32/32 [==============================] - 0s 13ms/step - loss: 0.0057 - accuracy: 0.0040\n",
      "Epoch 41/50\n",
      "32/32 [==============================] - 1s 17ms/step - loss: 0.0048 - accuracy: 0.0040\n",
      "Epoch 42/50\n",
      "32/32 [==============================] - 0s 15ms/step - loss: 0.0051 - accuracy: 0.0040\n",
      "Epoch 43/50\n",
      "32/32 [==============================] - 1s 16ms/step - loss: 0.0049 - accuracy: 0.0040\n",
      "Epoch 44/50\n",
      "32/32 [==============================] - 1s 16ms/step - loss: 0.0045 - accuracy: 0.0040\n",
      "Epoch 45/50\n",
      "32/32 [==============================] - 0s 15ms/step - loss: 0.0051 - accuracy: 0.0040\n",
      "Epoch 46/50\n",
      "32/32 [==============================] - 1s 18ms/step - loss: 0.0047 - accuracy: 0.0040\n",
      "Epoch 47/50\n",
      "32/32 [==============================] - 0s 13ms/step - loss: 0.0046 - accuracy: 0.0040\n",
      "Epoch 48/50\n",
      "32/32 [==============================] - 0s 13ms/step - loss: 0.0044 - accuracy: 0.0040\n",
      "Epoch 49/50\n",
      "32/32 [==============================] - 0s 13ms/step - loss: 0.0041 - accuracy: 0.0040\n",
      "Epoch 50/50\n",
      "32/32 [==============================] - 0s 13ms/step - loss: 0.0049 - accuracy: 0.0040\n"
     ]
    },
    {
     "data": {
      "text/plain": [
       "<keras.callbacks.History at 0x1835da833a0>"
      ]
     },
     "execution_count": 2,
     "metadata": {},
     "output_type": "execute_result"
    }
   ],
   "source": [
    "import pandas as pd \n",
    "import numpy as np\n",
    "import matplotlib.pyplot as plt\n",
    "%matplotlib inline\n",
    "\n",
    "df = pd.read_csv(\"Jisdoredit1.csv\", parse_dates = True, index_col = 0)\n",
    "\n",
    "from sklearn.preprocessing import MinMaxScaler\n",
    "from tensorflow.keras.models import Sequential\n",
    "from tensorflow.keras.layers import Dense\n",
    "from tensorflow.keras.layers import LSTM\n",
    "from tensorflow.keras.layers import Dropout\n",
    "\n",
    "train = df['Rate'][:505].to_numpy()\n",
    "test = df['Rate'][505:].to_numpy()\n",
    "sc = MinMaxScaler(feature_range=(0,1))\n",
    "train = sc.fit_transform(train.reshape(-1,1))\n",
    "test = sc.transform(test.reshape(-1,1))\n",
    "\n",
    "def data_preparation(data):\n",
    "    x = []\n",
    "    y = []\n",
    "    \n",
    "    for i in range(5, len(data)):\n",
    "        x.append(data[i-5:i, 0])\n",
    "        y.append(data[i])\n",
    "    x, y = np.array(x), np.array(y)\n",
    "    \n",
    "    x = np.reshape(x, (x.shape[0], x.shape[1], 1))\n",
    "    return x, y\n",
    "\n",
    "x_train, y_train = data_preparation(train)\n",
    "x_test, y_test = data_preparation(test)\n",
    "\n",
    "model = Sequential()\n",
    "model.add(LSTM(units=5, return_sequences=True, input_shape=(x_train.shape[1],1)))\n",
    "model.add(Dropout(0.2))\n",
    "model.add(LSTM(units=5))\n",
    "model.add(Dropout(0.2))\n",
    "model.add(Dense(units=1))\n",
    "model.compile(optimizer = 'adam', loss ='mean_squared_error', metrics=['accuracy'])\n",
    "model.fit(x_train, y_train, epochs = 50, batch_size = 16)"
   ]
  },
  {
   "cell_type": "code",
   "execution_count": 3,
   "id": "257589c9",
   "metadata": {},
   "outputs": [
    {
     "name": "stdout",
     "output_type": "stream",
     "text": [
      "2/2 [==============================] - 2s 18ms/step\n"
     ]
    },
    {
     "data": {
      "text/plain": [
       "[<matplotlib.lines.Line2D at 0x18366d757f0>]"
      ]
     },
     "execution_count": 3,
     "metadata": {},
     "output_type": "execute_result"
    },
    {
     "data": {
      "image/png": "[encoded data removed]",
      "text/plain": [
       "<Figure size 432x288 with 1 Axes>"
      ]
     },
     "metadata": {
      "needs_background": "light"
     },
     "output_type": "display_data"
    }
   ],
   "source": [
    "y_pred = model.predict(x_test)\n",
    "fig, ax = plt.subplots()\n",
    "ax.plot(y_pred)\n",
    "ax.plot(y_test, c = 'r')"
   ]
  },
  {
   "cell_type": "code",
   "execution_count": 7,
   "id": "0767ba50",
   "metadata": {},
   "outputs": [
    {
     "data": {
      "text/plain": [
       "[<matplotlib.lines.Line2D at 0x18366ea0bb0>]"
      ]
     },
     "execution_count": 7,
     "metadata": {},
     "output_type": "execute_result"
    },
    {
     "data": {
      "image/png": "[encoded data removed]",
      "text/plain": [
       "<Figure size 432x288 with 1 Axes>"
      ]
     },
     "metadata": {
      "needs_background": "light"
     },
     "output_type": "display_data"
    }
   ],
   "source": [
    "y_pred = sc.inverse_transform(y_pred)\n",
    "fig, ax = plt.subplots()\n",
    "y_real = df['Rate'].to_numpy()\n",
    "ax.plot(y_real[505:], color ='b', label = 'Real Rate')\n",
    "ax.plot(y_pred, color ='r', label = 'Forcaste Rate')"
   ]
  },
  {
   "cell_type": "code",
   "execution_count": null,
   "id": "1bd73420",
   "metadata": {},
   "outputs": [],
   "source": []
  }
 ],
 "metadata": {
  "kernelspec": {
   "display_name": "Python 3 (ipykernel)",
   "language": "python",
   "name": "python3"
  },
  "language_info": {
   "codemirror_mode": {
    "name": "ipython",
    "version": 3
   },
   "file_extension": ".py",
   "mimetype": "text/x-python",
   "name": "python",
   "nbconvert_exporter": "python",
   "pygments_lexer": "ipython3",
   "version": "3.9.7"
  }
 },
 "nbformat": 4,
 "nbformat_minor": 5
}
