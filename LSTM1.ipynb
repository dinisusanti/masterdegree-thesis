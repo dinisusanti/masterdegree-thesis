{
 "cells": [
  {
   "cell_type": "code",
   "execution_count": 1,
   "id": "e1a6ca95",
   "metadata": {},
   "outputs": [
    {
     "name": "stdout",
     "output_type": "stream",
     "text": [
      "Epoch 1/50\n",
      "124/124 [==============================] - 12s 28ms/step - loss: 0.0241 - accuracy: 0.0020\n",
      "Epoch 2/50\n",
      "124/124 [==============================] - 3s 27ms/step - loss: 0.0105 - accuracy: 0.0040\n",
      "Epoch 3/50\n",
      "124/124 [==============================] - 3s 26ms/step - loss: 0.0087 - accuracy: 0.0040\n",
      "Epoch 4/50\n",
      "124/124 [==============================] - 4s 29ms/step - loss: 0.0085 - accuracy: 0.0040\n",
      "Epoch 5/50\n",
      "124/124 [==============================] - 3s 25ms/step - loss: 0.0090 - accuracy: 0.0040\n",
      "Epoch 6/50\n",
      "124/124 [==============================] - 3s 26ms/step - loss: 0.0071 - accuracy: 0.0040\n",
      "Epoch 7/50\n",
      "124/124 [==============================] - 3s 27ms/step - loss: 0.0082 - accuracy: 0.0020\n",
      "Epoch 8/50\n",
      "124/124 [==============================] - 3s 27ms/step - loss: 0.0071 - accuracy: 0.0040\n",
      "Epoch 9/50\n",
      "124/124 [==============================] - 3s 28ms/step - loss: 0.0063 - accuracy: 0.0040\n",
      "Epoch 10/50\n",
      "124/124 [==============================] - 4s 32ms/step - loss: 0.0073 - accuracy: 0.0040\n",
      "Epoch 11/50\n",
      "124/124 [==============================] - 3s 27ms/step - loss: 0.0060 - accuracy: 0.0040\n",
      "Epoch 12/50\n",
      "124/124 [==============================] - 3s 26ms/step - loss: 0.0064 - accuracy: 0.0040\n",
      "Epoch 13/50\n",
      "124/124 [==============================] - 3s 26ms/step - loss: 0.0045 - accuracy: 0.0040\n",
      "Epoch 14/50\n",
      "124/124 [==============================] - 3s 25ms/step - loss: 0.0056 - accuracy: 0.0040\n",
      "Epoch 15/50\n",
      "124/124 [==============================] - 3s 25ms/step - loss: 0.0057 - accuracy: 0.0020\n",
      "Epoch 16/50\n",
      "124/124 [==============================] - 3s 28ms/step - loss: 0.0043 - accuracy: 0.0040\n",
      "Epoch 17/50\n",
      "124/124 [==============================] - 3s 27ms/step - loss: 0.0048 - accuracy: 0.0040\n",
      "Epoch 18/50\n",
      "124/124 [==============================] - 3s 27ms/step - loss: 0.0041 - accuracy: 0.0040\n",
      "Epoch 19/50\n",
      "124/124 [==============================] - 3s 27ms/step - loss: 0.0044 - accuracy: 0.0040\n",
      "Epoch 20/50\n",
      "124/124 [==============================] - 3s 28ms/step - loss: 0.0042 - accuracy: 0.0040\n",
      "Epoch 21/50\n",
      "124/124 [==============================] - 3s 27ms/step - loss: 0.0040 - accuracy: 0.0040\n",
      "Epoch 22/50\n",
      "124/124 [==============================] - 3s 27ms/step - loss: 0.0040 - accuracy: 0.0040\n",
      "Epoch 23/50\n",
      "124/124 [==============================] - 3s 26ms/step - loss: 0.0033 - accuracy: 0.0040\n",
      "Epoch 24/50\n",
      "124/124 [==============================] - 3s 27ms/step - loss: 0.0046 - accuracy: 0.0040\n",
      "Epoch 25/50\n",
      "124/124 [==============================] - 3s 28ms/step - loss: 0.0044 - accuracy: 0.0040\n",
      "Epoch 26/50\n",
      "124/124 [==============================] - 3s 25ms/step - loss: 0.0036 - accuracy: 0.0040\n",
      "Epoch 27/50\n",
      "124/124 [==============================] - 3s 27ms/step - loss: 0.0031 - accuracy: 0.0040\n",
      "Epoch 28/50\n",
      "124/124 [==============================] - 3s 27ms/step - loss: 0.0035 - accuracy: 0.0040\n",
      "Epoch 29/50\n",
      "124/124 [==============================] - 3s 27ms/step - loss: 0.0030 - accuracy: 0.0040\n",
      "Epoch 30/50\n",
      "124/124 [==============================] - 3s 27ms/step - loss: 0.0034 - accuracy: 0.0040\n",
      "Epoch 31/50\n",
      "124/124 [==============================] - 3s 27ms/step - loss: 0.0030 - accuracy: 0.0040\n",
      "Epoch 32/50\n",
      "124/124 [==============================] - 3s 26ms/step - loss: 0.0030 - accuracy: 0.0040\n",
      "Epoch 33/50\n",
      "124/124 [==============================] - 3s 26ms/step - loss: 0.0028 - accuracy: 0.0040\n",
      "Epoch 34/50\n",
      "124/124 [==============================] - 3s 26ms/step - loss: 0.0026 - accuracy: 0.0040\n",
      "Epoch 35/50\n",
      "124/124 [==============================] - 3s 27ms/step - loss: 0.0031 - accuracy: 0.0040\n",
      "Epoch 36/50\n",
      "124/124 [==============================] - 3s 26ms/step - loss: 0.0029 - accuracy: 0.0040\n",
      "Epoch 37/50\n",
      "124/124 [==============================] - 3s 27ms/step - loss: 0.0033 - accuracy: 0.0040\n",
      "Epoch 38/50\n",
      "124/124 [==============================] - 3s 27ms/step - loss: 0.0031 - accuracy: 0.0040\n",
      "Epoch 39/50\n",
      "124/124 [==============================] - 3s 27ms/step - loss: 0.0028 - accuracy: 0.0040\n",
      "Epoch 40/50\n",
      "124/124 [==============================] - 3s 28ms/step - loss: 0.0026 - accuracy: 0.0040\n",
      "Epoch 41/50\n",
      "124/124 [==============================] - 3s 27ms/step - loss: 0.0027 - accuracy: 0.0040\n",
      "Epoch 42/50\n",
      "124/124 [==============================] - 3s 27ms/step - loss: 0.0030 - accuracy: 0.0040\n",
      "Epoch 43/50\n",
      "124/124 [==============================] - 3s 27ms/step - loss: 0.0028 - accuracy: 0.0040\n",
      "Epoch 44/50\n",
      "124/124 [==============================] - 3s 26ms/step - loss: 0.0033 - accuracy: 0.0040\n",
      "Epoch 45/50\n",
      "124/124 [==============================] - 3s 26ms/step - loss: 0.0031 - accuracy: 0.0040\n",
      "Epoch 46/50\n",
      "124/124 [==============================] - 3s 27ms/step - loss: 0.0023 - accuracy: 0.0040\n",
      "Epoch 47/50\n",
      "124/124 [==============================] - 3s 27ms/step - loss: 0.0025 - accuracy: 0.0040\n",
      "Epoch 48/50\n",
      "124/124 [==============================] - 3s 26ms/step - loss: 0.0025 - accuracy: 0.0040\n",
      "Epoch 49/50\n",
      "124/124 [==============================] - 3s 27ms/step - loss: 0.0025 - accuracy: 0.0040\n",
      "Epoch 50/50\n",
      "124/124 [==============================] - 3s 27ms/step - loss: 0.0025 - accuracy: 0.0040\n"
     ]
    },
    {
     "data": {
      "text/plain": [
       "<keras.callbacks.History at 0x1f4c8ea91c0>"
      ]
     },
     "execution_count": 1,
     "metadata": {},
     "output_type": "execute_result"
    }
   ],
   "source": [
    "import pandas as pd \n",
    "import numpy as np\n",
    "from sklearn.preprocessing import MinMaxScaler\n",
    "from tensorflow.keras.models import Sequential\n",
    "from tensorflow.keras.layers import Dense\n",
    "from tensorflow.keras.layers import LSTM\n",
    "from tensorflow.keras.layers import Dropout\n",
    "import matplotlib.pyplot as plt\n",
    "%matplotlib inline\n",
    "\n",
    "df = pd.read_csv(\"Jisdoredit1.csv\", parse_dates = True, index_col = 0)\n",
    "train = df['Rate'][:505].to_numpy()\n",
    "test = df['Rate'][495:].to_numpy()\n",
    "sc = MinMaxScaler(feature_range=(0,1))\n",
    "train = sc.fit_transform(train.reshape(-1,1))\n",
    "test = sc.transform(test.reshape(-1,1))\n",
    "\n",
    "def data_preparation(data):\n",
    "    x = []\n",
    "    y = []\n",
    "    \n",
    "    for i in range(10, len(data)):\n",
    "        x.append(data[i-10:i, 0])\n",
    "        y.append(data[i])\n",
    "    x, y = np.array(x), np.array(y)\n",
    "    \n",
    "    x = np.reshape(x, (x.shape[0], x.shape[1], 1))\n",
    "    return x, y\n",
    "\n",
    "x_train, y_train = data_preparation(train)\n",
    "x_test, y_test = data_preparation(test)\n",
    "\n",
    "model = Sequential()\n",
    "model.add(LSTM(units=10, return_sequences=True, input_shape=(x_train.shape[1],1)))\n",
    "model.add(Dropout(0.2))\n",
    "model.add(LSTM(units=5))\n",
    "model.add(Dropout(0.2))\n",
    "model.add(Dense(units=1))\n",
    "model.compile(optimizer = 'adam', loss ='mean_squared_error', metrics=['accuracy'])\n",
    "model.fit(x_train, y_train, epochs = 50, batch_size = 4)"
   ]
  },
  {
   "cell_type": "code",
   "execution_count": 2,
   "id": "b1f6869a",
   "metadata": {},
   "outputs": [
    {
     "name": "stdout",
     "output_type": "stream",
     "text": [
      "2/2 [==============================] - 2s 13ms/step\n"
     ]
    },
    {
     "data": {
      "text/plain": [
       "[<matplotlib.lines.Line2D at 0x1f4cf92c250>]"
      ]
     },
     "execution_count": 2,
     "metadata": {},
     "output_type": "execute_result"
    },
    {
     "data": {
      "image/png": "[encoded data removed]",
      "text/plain": [
       "<Figure size 432x288 with 1 Axes>"
      ]
     },
     "metadata": {
      "needs_background": "light"
     },
     "output_type": "display_data"
    }
   ],
   "source": [
    "y_pred = model.predict(x_test)\n",
    "fig, ax = plt.subplots()\n",
    "ax.plot(y_pred)\n",
    "ax.plot(y_test, c = 'r')"
   ]
  },
  {
   "cell_type": "code",
   "execution_count": 4,
   "id": "1a7a6f58",
   "metadata": {},
   "outputs": [
    {
     "data": {
      "text/plain": [
       "<function matplotlib.pyplot.show(close=None, block=None)>"
      ]
     },
     "execution_count": 4,
     "metadata": {},
     "output_type": "execute_result"
    },
    {
     "data": {
      "image/png": "[encoded data removed]",
      "text/plain": [
       "<Figure size 936x360 with 1 Axes>"
      ]
     },
     "metadata": {
      "needs_background": "light"
     },
     "output_type": "display_data"
    }
   ],
   "source": [
    "y_pred = sc.inverse_transform(y_pred)\n",
    "pd.options.mode.chained_assignment = None\n",
    "\n",
    "dtrain = df[:505]\n",
    "valid = df[505:]\n",
    "valid['Predictions'] = y_pred\n",
    "\n",
    "plt.figure(figsize=(13,5))\n",
    "plt.title('USD/IDR Exchange Rate Forecast During COVID-19 Pandemic')\n",
    "plt.xlabel('Date', fontsize = 13)\n",
    "plt.ylabel('Exchange Rate', fontsize = 13)\n",
    "plt.plot(valid[['Rate', 'Predictions']])\n",
    "plt.legend(['Real', 'Predictions'], loc = 'upper left')\n",
    "plt.show"
   ]
  },
  {
   "cell_type": "code",
   "execution_count": 5,
   "id": "20efe466",
   "metadata": {},
   "outputs": [
    {
     "data": {
      "text/plain": [
       "2016853169886110.8"
      ]
     },
     "execution_count": 5,
     "metadata": {},
     "output_type": "execute_result"
    }
   ],
   "source": [
    "newtest = df['Rate'][500:].to_numpy()\n",
    "mse = np.square(np.subtract(newtest,y_pred)).mean()\n",
    "mse"
   ]
  },
  {
   "cell_type": "code",
   "execution_count": 6,
   "id": "002e3c8e",
   "metadata": {},
   "outputs": [
    {
     "data": {
      "text/plain": [
       "44909388.43812183"
      ]
     },
     "execution_count": 6,
     "metadata": {},
     "output_type": "execute_result"
    }
   ],
   "source": [
    "rmse = np.sqrt(mse)\n",
    "rmse"
   ]
  },
  {
   "cell_type": "code",
   "execution_count": 7,
   "id": "ca7dc38d",
   "metadata": {},
   "outputs": [
    {
     "data": {
      "text/plain": [
       "313294.7847150028"
      ]
     },
     "execution_count": 7,
     "metadata": {},
     "output_type": "execute_result"
    }
   ],
   "source": [
    "mape = np.mean(np.abs((newtest - y_pred)/ newtest))*100\n",
    "mape"
   ]
  },
  {
   "cell_type": "code",
   "execution_count": null,
   "id": "d113d897",
   "metadata": {},
   "outputs": [],
   "source": []
  }
 ],
 "metadata": {
  "kernelspec": {
   "display_name": "Python 3 (ipykernel)",
   "language": "python",
   "name": "python3"
  },
  "language_info": {
   "codemirror_mode": {
    "name": "ipython",
    "version": 3
   },
   "file_extension": ".py",
   "mimetype": "text/x-python",
   "name": "python",
   "nbconvert_exporter": "python",
   "pygments_lexer": "ipython3",
   "version": "3.9.7"
  }
 },
 "nbformat": 4,
 "nbformat_minor": 5
}
